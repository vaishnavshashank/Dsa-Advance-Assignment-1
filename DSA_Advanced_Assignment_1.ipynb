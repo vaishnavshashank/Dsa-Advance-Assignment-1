{
  "cells": [
    {
      "cell_type": "markdown",
      "source": [
        "# Delete the elements in an linked list whose sum is equal to zero\n",
        "\n",
        "\n"
      ],
      "metadata": {
        "id": "OjMqL3RD3uZ-"
      }
    },
    {
      "cell_type": "code",
      "source": [
        "'Delete the elements in an linked list whose sum is equal to zero'\n",
        "\n",
        "class Node():\n",
        "    def __init__(self,value):\n",
        "        self.value=value\n",
        "        self.nextnode=None\n",
        "#Class Linked List for Pointing Head and Tail\n",
        "class LinkedList():\n",
        "    def __init__(self):\n",
        "        self.head=None\n",
        "    \n",
        "    def add_element(self,value):\n",
        "        node=Node(value)\n",
        "        if self.head is None:\n",
        "            self.head=node\n",
        "            return\n",
        "        crnt_node=self.head\n",
        "        while True:\n",
        "            if crnt_node.nextnode is None:\n",
        "                crnt_node.nextnode=node\n",
        "                break\n",
        "            crnt_node=crnt_node.nextnode\n",
        "\n",
        "    def print_llist(self):\n",
        "        crnt_node=self.head     \n",
        "        v_llist=[]\n",
        "        while True:\n",
        "            print(crnt_node.value,end='->')\n",
        "            v_llist.append(crnt_node.value) # storing data into list\n",
        "            if crnt_node.nextnode is None:              \n",
        "                break\n",
        "            crnt_node=crnt_node.nextnode\n",
        "        print('None')\n",
        "        return v_llist\n",
        "        \n",
        "    def print_modified_llist(self):\n",
        "        p_add=0\n",
        "        v_llist=self.print_llist()\n",
        "        #going till the second last element of list and then trying to print requested o/p\n",
        "        for i in range(len(v_llist)-1):\n",
        "            p_add=p_add+v_llist[i]\n",
        "        if v_llist[-1]>0 and p_add>0:\n",
        "            print(p_add,v_llist[-1])\n",
        "        elif v_llist[-1]<0 and p_add>0:\n",
        "            print(p_add+v_list[-1])\n",
        "        elif v_llist[-1]<0 and p_add<0:\n",
        "            print(v_llist[-1],p_add)\n",
        "            \n",
        "\n",
        "sll=LinkedList()\n",
        "sll.add_element(4)\n",
        "sll.print_llist()\n",
        "sll.add_element(6)\n",
        "sll.print_llist()\n",
        "sll.add_element(-10)\n",
        "sll.print_llist()\n",
        "sll.add_element(8)\n",
        "sll.print_llist()\n",
        "sll.add_element(9)\n",
        "sll.print_llist()\n",
        "sll.add_element(10)\n",
        "sll.print_llist()\n",
        "sll.add_element(-19)\n",
        "sll.print_llist()\n",
        "sll.add_element(10)\n",
        "sll.print_llist()\n",
        "sll.add_element(-18)\n",
        "sll.print_llist()\n",
        "sll.add_element(20)\n",
        "sll.print_llist()\n",
        "sll.add_element(25)\n",
        "sll.print_llist()\n",
        "sll.print_modified_llist()"
      ],
      "metadata": {
        "id": "sw4jlbX25imP",
        "colab": {
          "base_uri": "https://localhost:8080/"
        },
        "outputId": "50053ddd-e22a-49bb-d9f5-6f5bb52c47c5"
      },
      "execution_count": 20,
      "outputs": [
        {
          "output_type": "stream",
          "name": "stdout",
          "text": [
            "4->None\n",
            "4->6->None\n",
            "4->6->-10->None\n",
            "4->6->-10->8->None\n",
            "4->6->-10->8->9->None\n",
            "4->6->-10->8->9->10->None\n",
            "4->6->-10->8->9->10->-19->None\n",
            "4->6->-10->8->9->10->-19->10->None\n",
            "4->6->-10->8->9->10->-19->10->-18->None\n",
            "4->6->-10->8->9->10->-19->10->-18->20->None\n",
            "4->6->-10->8->9->10->-19->10->-18->20->25->None\n",
            "4->6->-10->8->9->10->-19->10->-18->20->25->None\n",
            "20 25\n"
          ]
        }
      ]
    },
    {
      "cell_type": "markdown",
      "source": [
        "# Reverse a linked list in groups of given size\n"
      ],
      "metadata": {
        "id": "2XqfOACM_QBk"
      }
    },
    {
      "cell_type": "code",
      "source": [
        "# Python program to reverse a linked list in groups of given size\n",
        "class Node:\n",
        "\tdef __init__(self, data):\n",
        "\t\tself.data = data\n",
        "\t\tself.next = None\n",
        "\n",
        "# Reverses the linked list in groups\n",
        "# of size k and returns the pointer\n",
        "# to the new head node.\n",
        "\n",
        "\n",
        "def reverse(head, k):\n",
        "# If head is NULL or K is 1 then return head\n",
        "\tif not head or k == 1:\n",
        "\t\treturn head\n",
        "\tdummy = Node(-1) # creating dummy node\n",
        "\tdummy.next = head\n",
        "\t# Initializing three points prev, curr, next\n",
        "\tprev = dummy\n",
        "\tcurr = dummy\n",
        "\tnext = dummy\n",
        "\tcount = 0\n",
        "\ttoLoop = 0\n",
        "\ti = 0\n",
        "\n",
        "\t# Calculating the length of linked list\n",
        "\twhile curr:\n",
        "\t\tcurr = curr.next\n",
        "\t\tcount += 1\n",
        "\n",
        "\t# Iterating till next is not none\n",
        "\twhile next:\n",
        "\t\tcurr = prev.next # Curr position after every reversed group\n",
        "\t\tnext = curr.next # Next will always next to curr\n",
        "\t\t# toLoop will set to count - 1 in case of remaining element\n",
        "\t\ttoLoop = count > k and k or count - 1\n",
        "\t\tfor i in range(1, toLoop):\n",
        "\t\t\t\t# 4 steps as discussed above\n",
        "\t\t\tcurr.next = next.next\n",
        "\t\t\tnext.next = prev.next\n",
        "\t\t\tprev.next = next\n",
        "\t\t\tnext = curr.next\n",
        "\t\t# Setting prev to curr\n",
        "\t\tprev = curr\n",
        "\t\t# Update count\n",
        "\t\tcount -= k\n",
        "\n",
        "\t# dummy -> next will be our new head for output linked list\n",
        "\treturn dummy.next\n",
        "\n",
        "# Function to print linked list\n",
        "\n",
        "\n",
        "def printList(node):\n",
        "\twhile node is not None:\n",
        "\t\tprint(node.data, end=\" \")\n",
        "\t\tnode = node.next\n",
        "\n",
        "\n",
        "# Created Linked list is 1->2->3->4->5->6->7->8->9\n",
        "head = Node(1)\n",
        "head.next = Node(2)\n",
        "head.next.next = Node(3)\n",
        "head.next.next.next = Node(4)\n",
        "head.next.next.next.next = Node(5)\n",
        "head.next.next.next.next.next = Node(6)\n",
        "head.next.next.next.next.next.next = Node(7)\n",
        "head.next.next.next.next.next.next.next = Node(8)\n",
        "head.next.next.next.next.next.next.next.next = Node(9)\n",
        "\n",
        "print(\"Given linked list\")\n",
        "printList(head)\n",
        "head = reverse(head, 3)\n",
        "\n",
        "print(\"\\nReversed Linked list\")\n",
        "printList(head)\n",
        "\n"
      ],
      "metadata": {
        "colab": {
          "base_uri": "https://localhost:8080/"
        },
        "id": "t_lBjH5e_tA0",
        "outputId": "c8848e4b-41a2-42da-c026-9b4951e23458"
      },
      "execution_count": 21,
      "outputs": [
        {
          "output_type": "stream",
          "name": "stdout",
          "text": [
            "Given linked list\n",
            "1 2 3 4 5 6 7 8 9 \n",
            "Reversed Linked list\n",
            "3 2 1 6 5 4 9 8 7 "
          ]
        }
      ]
    },
    {
      "cell_type": "markdown",
      "source": [
        "# Merge a linked list into another linked list at alternate positions.\n"
      ],
      "metadata": {
        "id": "XIRcbws9_Uuh"
      }
    },
    {
      "cell_type": "code",
      "source": [
        "# Python program to merge a linked list into another at\n",
        "# alternate positions\n",
        "\n",
        "class Node(object):\n",
        "\tdef __init__(self, data:int):\n",
        "\t\tself.data = data\n",
        "\t\tself.next = None\n",
        "\n",
        "\n",
        "class LinkedList(object):\n",
        "\tdef __init__(self):\n",
        "\t\tself.head = None\n",
        "\t\t\n",
        "\tdef push(self, new_data:int):\n",
        "\t\tnew_node = Node(new_data)\n",
        "\t\tnew_node.next = self.head\n",
        "\t\t# 4. Move the head to point to new Node\n",
        "\t\tself.head = new_node\n",
        "\t\t\n",
        "\t# Function to print linked list from the Head\n",
        "\tdef printList(self):\n",
        "\t\ttemp = self.head\n",
        "\t\twhile temp != None:\n",
        "\t\t\tprint(temp.data)\n",
        "\t\t\ttemp = temp.next\n",
        "\t\t\t\n",
        "\t# Main function that inserts nodes of linked list q into p at alternate positions.\n",
        "\t# Since head of first list never changes\n",
        "\t# but head of second list/ may change,\n",
        "\t# we need single pointer for first list and double pointer for second list.\n",
        "\tdef merge(self, p, q):\n",
        "\t\tp_curr = p.head\n",
        "\t\tq_curr = q.head\n",
        "\n",
        "\t\t# swap their positions until one finishes off\n",
        "\t\twhile p_curr != None and q_curr != None:\n",
        "\n",
        "\t\t\t# Save next pointers\n",
        "\t\t\tp_next = p_curr.next\n",
        "\t\t\tq_next = q_curr.next\n",
        "\n",
        "\t\t\t# make q_curr as next of p_curr\n",
        "\t\t\tq_curr.next = p_next # change next pointer of q_curr\n",
        "\t\t\tp_curr.next = q_curr # change next pointer of p_curr\n",
        "\n",
        "\t\t\t# update current pointers for next iteration\n",
        "\t\t\tp_curr = p_next\n",
        "\t\t\tq_curr = q_next\n",
        "\t\t\tq.head = q_curr\n",
        "\n",
        "\n",
        "\n",
        "# Driver program to test above functions\n",
        "llist1 = LinkedList()\n",
        "llist2 = LinkedList()\n",
        "\n",
        "# Creating LLs\n",
        "\n",
        "# 1.\n",
        "llist1.push(3)\n",
        "llist1.push(2)\n",
        "llist1.push(1)\n",
        "llist1.push(0)\n",
        "\n",
        "# 2.\n",
        "for i in range(8, 3, -1):\n",
        "\tllist2.push(i)\n",
        "\n",
        "print(\"First Linked List:\")\n",
        "llist1.printList()\n",
        "\n",
        "print(\"Second Linked List:\")\n",
        "llist2.printList()\n",
        "\n",
        "# Merging the LLs\n",
        "llist1.merge(p=llist1, q=llist2)\n",
        "\n",
        "print(\"Modified first linked list:\")\n",
        "llist1.printList()\n",
        "\n",
        "print(\"Modified second linked list:\")\n",
        "llist2.printList()"
      ],
      "metadata": {
        "id": "B8Xqiha15ih7",
        "colab": {
          "base_uri": "https://localhost:8080/"
        },
        "outputId": "242e97b4-2d23-47e5-c96a-0b975b441a5a"
      },
      "execution_count": 22,
      "outputs": [
        {
          "output_type": "stream",
          "name": "stdout",
          "text": [
            "First Linked List:\n",
            "0\n",
            "1\n",
            "2\n",
            "3\n",
            "Second Linked List:\n",
            "4\n",
            "5\n",
            "6\n",
            "7\n",
            "8\n",
            "Modified first linked list:\n",
            "0\n",
            "4\n",
            "1\n",
            "5\n",
            "2\n",
            "6\n",
            "3\n",
            "7\n",
            "Modified second linked list:\n",
            "8\n"
          ]
        }
      ]
    },
    {
      "cell_type": "markdown",
      "source": [
        "# In an array, Count Pairs with given sum\n"
      ],
      "metadata": {
        "id": "RK9AMbX-_zr4"
      }
    },
    {
      "cell_type": "code",
      "source": [
        "# Python3 implementation of simple method\n",
        "# to find count of pairs with given sum.\n",
        "\n",
        "# Returns number of pairs in arr[0..n-1]\n",
        "# with sum equal to 'sum'\n",
        "\n",
        "\n",
        "def getPairsCount(arr, n, sum):\n",
        "\n",
        "\tcount = 0 # Initialize result\n",
        "\n",
        "\t# Consider all possible pairs\n",
        "\t# and check their sums\n",
        "\tfor i in range(0, n):\n",
        "\t\tfor j in range(i + 1, n):\n",
        "\t\t\tif arr[i] + arr[j] == sum:\n",
        "\t\t\t\tcount += 1\n",
        "\n",
        "\treturn count\n",
        "\n",
        "\n",
        "# Driver function\n",
        "arr = [1, 5, 7, -1, 5]\n",
        "n = len(arr)\n",
        "sum = 6\n",
        "print(\"Count of pairs is\",\n",
        "\tgetPairsCount(arr, n, sum))"
      ],
      "metadata": {
        "id": "TKrwtQC55ig1",
        "colab": {
          "base_uri": "https://localhost:8080/"
        },
        "outputId": "2aeefa3b-612f-4245-8ace-a97183cf2325"
      },
      "execution_count": 23,
      "outputs": [
        {
          "output_type": "stream",
          "name": "stdout",
          "text": [
            "Count of pairs is 3\n"
          ]
        }
      ]
    },
    {
      "cell_type": "markdown",
      "source": [
        "# Find duplicates in an array\n"
      ],
      "metadata": {
        "id": "Yua3xb-ZAAX9"
      }
    },
    {
      "cell_type": "code",
      "source": [
        "# Python3 code to find duplicates in O(n) time\n",
        "numRay = [0, 4, 3, 2, 7, 8, 2, 3, 1]\n",
        "arr_size = len(numRay)\n",
        "for i in range(arr_size):\n",
        "\n",
        "\tx = numRay[i] % arr_size\n",
        "\tnumRay[x] = numRay[x] + arr_size\n",
        "\n",
        "print(\"The repeating elements are : \")\n",
        "for i in range(arr_size):\n",
        "\tif (numRay[i] >= arr_size*2):\n",
        "\t\tprint(i, \" \")\n"
      ],
      "metadata": {
        "id": "a7Jopo-l5idt",
        "colab": {
          "base_uri": "https://localhost:8080/"
        },
        "outputId": "a1d02117-ad94-4131-ae9e-f663eb47e0bb"
      },
      "execution_count": 24,
      "outputs": [
        {
          "output_type": "stream",
          "name": "stdout",
          "text": [
            "The repeating elements are : \n",
            "2  \n",
            "3  \n"
          ]
        }
      ]
    },
    {
      "cell_type": "markdown",
      "source": [
        "# Find the Kth largest and Kth smallest number in an array\n"
      ],
      "metadata": {
        "id": "-nO0R9VyAxvD"
      }
    },
    {
      "cell_type": "code",
      "source": [
        "# Python3 program to find K'th smallest\n",
        "# element\n",
        "\n",
        "# Function to return K'th smallest\n",
        "# element in a given array\n",
        "\n",
        "\n",
        "def kthSmallest(arr, N, K):\n",
        "\n",
        "\t# Sort the given array\n",
        "\tarr.sort()\n",
        "\n",
        "\t# Return k'th element in the\n",
        "\t# sorted array\n",
        "\treturn arr[K-1]\n",
        "\n",
        "\n",
        "# Driver code\n",
        "if __name__ == '__main__':\n",
        "\tarr = [12, 3, 5, 7, 19]\n",
        "\tN = len(arr)\n",
        "\tK = 2\n",
        "\n",
        "\t# Function call\n",
        "\tprint(\"K'th smallest element is\",\n",
        "\t\tkthSmallest(arr, N, K))"
      ],
      "metadata": {
        "id": "l9db0JeC5iZg",
        "colab": {
          "base_uri": "https://localhost:8080/"
        },
        "outputId": "baaa8e4b-ec38-48e8-95cd-38536f24ec93"
      },
      "execution_count": 25,
      "outputs": [
        {
          "output_type": "stream",
          "name": "stdout",
          "text": [
            "K'th smallest element is 5\n"
          ]
        }
      ]
    },
    {
      "cell_type": "markdown",
      "source": [
        "# Move all the negative elements to one side of the array\n"
      ],
      "metadata": {
        "id": "dVxw44Y5A8ro"
      }
    },
    {
      "cell_type": "code",
      "source": [
        "# Move all the negative elements to one side of the array\n",
        "def move(arr):\n",
        "  arr.sort()\n",
        " \n",
        "# driver code\n",
        "arr = [ -1, 2, -3, 4, 5, 6, -7, 8, 9 ]\n",
        "move(arr)\n",
        "for e in arr:\n",
        "    print(e , end = \" \")"
      ],
      "metadata": {
        "id": "f-e8YZah5iXx",
        "colab": {
          "base_uri": "https://localhost:8080/"
        },
        "outputId": "246dec14-34e1-4c37-cf32-54c75524dea4"
      },
      "execution_count": 26,
      "outputs": [
        {
          "output_type": "stream",
          "name": "stdout",
          "text": [
            "-7 -3 -1 2 4 5 6 8 9 "
          ]
        }
      ]
    },
    {
      "cell_type": "code",
      "source": [],
      "metadata": {
        "id": "yFOKpo2O5iRV"
      },
      "execution_count": 26,
      "outputs": []
    },
    {
      "cell_type": "markdown",
      "source": [
        "# Reverse a string using a stack data structure\n"
      ],
      "metadata": {
        "id": "3PdmiG9RBf2C"
      }
    },
    {
      "cell_type": "code",
      "source": [
        "# Python program to reverse a string using stack\n",
        "\n",
        "# Function to create an empty stack.\n",
        "# It initializes size of stack as 0\n",
        "\n",
        "\n",
        "def createStack():\n",
        "\tstack = []\n",
        "\treturn stack\n",
        "\n",
        "# Function to determine the size of the stack\n",
        "\n",
        "\n",
        "def size(stack):\n",
        "\treturn len(stack)\n",
        "\n",
        "# Stack is empty if the size is 0\n",
        "\n",
        "\n",
        "def isEmpty(stack):\n",
        "\tif size(stack) == 0:\n",
        "\t\treturn true\n",
        "\n",
        "# Function to add an item to stack .\n",
        "# It increases size by 1\n",
        "\n",
        "\n",
        "def push(stack, item):\n",
        "\tstack.append(item)\n",
        "\n",
        "# Function to remove an item from stack.\n",
        "# It decreases size by 1\n",
        "\n",
        "\n",
        "def pop(stack):\n",
        "\tif isEmpty(stack):\n",
        "\t\treturn\n",
        "\treturn stack.pop()\n",
        "\n",
        "# A stack based function to reverse a string\n",
        "\n",
        "\n",
        "def reverse(string):\n",
        "\tn = len(string)\n",
        "\n",
        "\t# Create a empty stack\n",
        "\tstack = createStack()\n",
        "\n",
        "\t# Push all characters of string to stack\n",
        "\tfor i in range(0, n, 1):\n",
        "\t\tpush(stack, string[i])\n",
        "\n",
        "\t# Making the string empty since all\n",
        "\t# characters are saved in stack\n",
        "\tstring = \"\"\n",
        "\n",
        "\t# Pop all characters of string and\n",
        "\t# put them back to string\n",
        "\tfor i in range(0, n, 1):\n",
        "\t\tstring += pop(stack)\n",
        "\n",
        "\treturn string\n",
        "\n",
        "\n",
        "# Driver program to test above functions\n",
        "string = \"GeeksQuiz\"\n",
        "string = reverse(string)\n",
        "print(\"Reversed string is \" + string)"
      ],
      "metadata": {
        "id": "ZbGbwx6B5hoC",
        "colab": {
          "base_uri": "https://localhost:8080/"
        },
        "outputId": "6b1eeef3-10bd-405b-d31d-7fcf6c64c483"
      },
      "execution_count": 27,
      "outputs": [
        {
          "output_type": "stream",
          "name": "stdout",
          "text": [
            "Reversed string is ziuQskeeG\n"
          ]
        }
      ]
    },
    {
      "cell_type": "markdown",
      "source": [
        "# Evaluate a postfix expression using stack\n"
      ],
      "metadata": {
        "id": "YWNLjpSxBnVW"
      }
    },
    {
      "cell_type": "code",
      "source": [
        "# Python program to evaluate value of a postfix expression\n",
        "\n",
        "# Class to convert the expression\n",
        "class Evaluate:\n",
        "\t\n",
        "\t# Constructor to initialize the class variables\n",
        "\tdef __init__(self, capacity):\n",
        "\t\tself.top = -1\n",
        "\t\tself.capacity = capacity\n",
        "\t\t# This array is used a stack\n",
        "\t\tself.array = []\n",
        "\t\n",
        "\t# check if the stack is empty\n",
        "\tdef isEmpty(self):\n",
        "\t\treturn True if self.top == -1 else False\n",
        "\t\n",
        "\t# Return the value of the top of the stack\n",
        "\tdef peek(self):\n",
        "\t\treturn self.array[-1]\n",
        "\t\n",
        "\t# Pop the element from the stack\n",
        "\tdef pop(self):\n",
        "\t\tif not self.isEmpty():\n",
        "\t\t\tself.top -= 1\n",
        "\t\t\treturn self.array.pop()\n",
        "\t\telse:\n",
        "\t\t\treturn \"$\"\n",
        "\t\n",
        "\t# Push the element to the stack\n",
        "\tdef push(self, op):\n",
        "\t\tself.top += 1\n",
        "\t\tself.array.append(op)\n",
        "\n",
        "\n",
        "\t# The main function that converts given infix expression\n",
        "\t# to postfix expression\n",
        "\tdef evaluatePostfix(self, exp):\n",
        "\t\t\n",
        "\t\t# Iterate over the expression for conversion\n",
        "\t\tfor i in exp:\n",
        "\t\t\t\n",
        "\t\t\t# If the scanned character is an operand\n",
        "\t\t\t# (number here) push it to the stack\n",
        "\t\t\tif i.isdigit():\n",
        "\t\t\t\tself.push(i)\n",
        "\n",
        "\t\t\t# If the scanned character is an operator,\n",
        "\t\t\t# pop two elements from stack and apply it.\n",
        "\t\t\telse:\n",
        "\t\t\t\tval1 = self.pop()\n",
        "\t\t\t\tval2 = self.pop()\n",
        "\t\t\t\tself.push(str(eval(val2 + i + val1)))\n",
        "\n",
        "\t\treturn int(self.pop())\n",
        "\t\t\t\t\n",
        "\n",
        "\t\t\t\n",
        "# Driver program to test above function\n",
        "exp = \"231*+9-\"\n",
        "obj = Evaluate(len(exp))\n",
        "print (\"postfix evaluation: %d\"%(obj.evaluatePostfix(exp)))"
      ],
      "metadata": {
        "id": "0Ugx9ThO5hmd",
        "colab": {
          "base_uri": "https://localhost:8080/"
        },
        "outputId": "bde0a38a-2b1b-4baf-8aa8-8d921912d8bd"
      },
      "execution_count": 28,
      "outputs": [
        {
          "output_type": "stream",
          "name": "stdout",
          "text": [
            "postfix evaluation: -4\n"
          ]
        }
      ]
    },
    {
      "cell_type": "markdown",
      "source": [
        "# Implement a queue using the stack data structure\n"
      ],
      "metadata": {
        "id": "r6s6gM6HB4pE"
      }
    },
    {
      "cell_type": "code",
      "source": [
        "\n",
        "\n",
        "class Queue:\n",
        "\tdef __init__(self):\n",
        "\t\tself.s1 = []\n",
        "\t\tself.s2 = []\n",
        "\n",
        "\tdef enQueue(self, x):\n",
        "\t\t\n",
        "\t\t# Move all elements from s1 to s2\n",
        "\t\twhile len(self.s1) != 0:\n",
        "\t\t\tself.s2.append(self.s1[-1])\n",
        "\t\t\tself.s1.pop()\n",
        "\n",
        "\t\t# Push item into self.s1\n",
        "\t\tself.s1.append(x)\n",
        "\n",
        "\t\t# Push everything back to s1\n",
        "\t\twhile len(self.s2) != 0:\n",
        "\t\t\tself.s1.append(self.s2[-1])\n",
        "\t\t\tself.s2.pop()\n",
        "\n",
        "\t# Dequeue an item from the queue\n",
        "\tdef deQueue(self):\n",
        "\t\t\n",
        "\t\t\t# if first stack is empty\n",
        "\t\tif len(self.s1) == 0:\n",
        "\t\t\tprint(\"Q is Empty\")\n",
        "\t\n",
        "\t\t# Return top of self.s1\n",
        "\t\tx = self.s1[-1]\n",
        "\t\tself.s1.pop()\n",
        "\t\treturn x\n",
        "\n",
        "# Driver code\n",
        "if __name__ == '__main__':\n",
        "\tq = Queue()\n",
        "\tq.enQueue(1)\n",
        "\tq.enQueue(2)\n",
        "\tq.enQueue(3)\n",
        "\n",
        "\tprint(q.deQueue())\n",
        "\tprint(q.deQueue())\n",
        "\tprint(q.deQueue())"
      ],
      "metadata": {
        "id": "U9K-wGna5hhO",
        "colab": {
          "base_uri": "https://localhost:8080/"
        },
        "outputId": "f3d52a2e-e0ca-412a-8107-93cde7533583"
      },
      "execution_count": 29,
      "outputs": [
        {
          "output_type": "stream",
          "name": "stdout",
          "text": [
            "1\n",
            "2\n",
            "3\n"
          ]
        }
      ]
    }
  ],
  "metadata": {
    "colab": {
      "collapsed_sections": [],
      "name": "DSA Advanced Assignment 1",
      "provenance": []
    },
    "kernelspec": {
      "display_name": "Python 3",
      "name": "python3"
    }
  },
  "nbformat": 4,
  "nbformat_minor": 0
}